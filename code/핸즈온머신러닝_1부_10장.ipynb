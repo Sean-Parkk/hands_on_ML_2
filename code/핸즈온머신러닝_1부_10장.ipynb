{
 "cells": [
  {
   "cell_type": "markdown",
   "metadata": {},
   "source": [
    "# 케라스를 사용한 인공 신경망"
   ]
  },
  {
   "cell_type": "markdown",
   "metadata": {
    "toc": true
   },
   "source": [
    "<h1>Table of Contents<span class=\"tocSkip\"></span></h1>\n",
    "<div class=\"toc\"><ul class=\"toc-item\"><li><span><a href=\"#1.-시퀀셜-API를-사용하여-이미지-분류기-만들기\" data-toc-modified-id=\"1.-시퀀셜-API를-사용하여-이미지-분류기-만들기-1\">1. 시퀀셜 API를 사용하여 이미지 분류기 만들기</a></span></li></ul></div>"
   ]
  },
  {
   "cell_type": "markdown",
   "metadata": {},
   "source": [
    "## 1. 시퀀셜 API를 사용하여 이미지 분류기 만들기"
   ]
  },
  {
   "cell_type": "code",
   "execution_count": 2,
   "metadata": {
    "ExecuteTime": {
     "end_time": "2020-09-11T12:49:13.825781Z",
     "start_time": "2020-09-11T12:49:13.814811Z"
    }
   },
   "outputs": [
    {
     "name": "stdout",
     "output_type": "stream",
     "text": [
      "2.3.0 \t 2.4.0\n"
     ]
    }
   ],
   "source": [
    "import tensorflow as tf\n",
    "from tensorflow import keras\n",
    "\n",
    "print(tf.__version__, '\\t', keras.__version__)"
   ]
  },
  {
   "cell_type": "code",
   "execution_count": 4,
   "metadata": {
    "ExecuteTime": {
     "end_time": "2020-09-11T12:50:15.636089Z",
     "start_time": "2020-09-11T12:50:09.347389Z"
    }
   },
   "outputs": [
    {
     "name": "stdout",
     "output_type": "stream",
     "text": [
      "Downloading data from https://storage.googleapis.com/tensorflow/tf-keras-datasets/train-labels-idx1-ubyte.gz\n",
      "32768/29515 [=================================] - 0s 0us/step\n",
      "Downloading data from https://storage.googleapis.com/tensorflow/tf-keras-datasets/train-images-idx3-ubyte.gz\n",
      "26427392/26421880 [==============================] - 2s 0us/step\n",
      "Downloading data from https://storage.googleapis.com/tensorflow/tf-keras-datasets/t10k-labels-idx1-ubyte.gz\n",
      "8192/5148 [===============================================] - 0s 0us/step\n",
      "Downloading data from https://storage.googleapis.com/tensorflow/tf-keras-datasets/t10k-images-idx3-ubyte.gz\n",
      "4423680/4422102 [==============================] - 0s 0us/step\n"
     ]
    }
   ],
   "source": [
    "fashion_mnist = keras.datasets.fashion_mnist\n",
    "(X_train_full, y_train_full), (X_test, y_test) = fashion_mnist.load_data()"
   ]
  },
  {
   "cell_type": "code",
   "execution_count": 6,
   "metadata": {
    "ExecuteTime": {
     "end_time": "2020-09-11T13:32:28.790573Z",
     "start_time": "2020-09-11T13:32:28.772620Z"
    }
   },
   "outputs": [
    {
     "data": {
      "text/plain": [
       "(60000, 28, 28)"
      ]
     },
     "execution_count": 6,
     "metadata": {},
     "output_type": "execute_result"
    }
   ],
   "source": [
    "X_train_full.shape"
   ]
  },
  {
   "cell_type": "code",
   "execution_count": 7,
   "metadata": {
    "ExecuteTime": {
     "end_time": "2020-09-11T13:32:44.080979Z",
     "start_time": "2020-09-11T13:32:44.064025Z"
    }
   },
   "outputs": [
    {
     "data": {
      "text/plain": [
       "dtype('uint8')"
      ]
     },
     "execution_count": 7,
     "metadata": {},
     "output_type": "execute_result"
    }
   ],
   "source": [
    "X_train_full.dtype"
   ]
  },
  {
   "cell_type": "code",
   "execution_count": 8,
   "metadata": {
    "ExecuteTime": {
     "end_time": "2020-09-11T13:34:02.164137Z",
     "start_time": "2020-09-11T13:34:01.433094Z"
    }
   },
   "outputs": [],
   "source": [
    "X_valid, X_train = X_train_full[:5000] / 255.0, X_train_full[5000:] / 255.0\n",
    "y_valid, y_train = y_train_full[:5000], y_train_full[5000:]\n",
    "X_test = X_test / 255.0"
   ]
  },
  {
   "cell_type": "code",
   "execution_count": 9,
   "metadata": {
    "ExecuteTime": {
     "end_time": "2020-09-11T13:36:17.014866Z",
     "start_time": "2020-09-11T13:36:17.002899Z"
    }
   },
   "outputs": [],
   "source": [
    "class_names = ['T-shirt/top', 'Trouser', 'Pullover', 'Dress', 'Coat',\n",
    "               'Sandal', 'Shirt', 'Sneaker', 'Bag', 'Ankle boot']"
   ]
  },
  {
   "cell_type": "code",
   "execution_count": 10,
   "metadata": {
    "ExecuteTime": {
     "end_time": "2020-09-11T13:36:26.040935Z",
     "start_time": "2020-09-11T13:36:26.027968Z"
    }
   },
   "outputs": [
    {
     "data": {
      "text/plain": [
       "'Coat'"
      ]
     },
     "execution_count": 10,
     "metadata": {},
     "output_type": "execute_result"
    }
   ],
   "source": [
    "class_names[y_train[0]]"
   ]
  },
  {
   "cell_type": "code",
   "execution_count": 16,
   "metadata": {
    "ExecuteTime": {
     "end_time": "2020-09-11T13:44:35.964702Z",
     "start_time": "2020-09-11T13:44:35.881922Z"
    }
   },
   "outputs": [],
   "source": [
    "model = keras.models.Sequential()\n",
    "model.add(keras.layers.Flatten(input_shape=[28, 28]))\n",
    "model.add(keras.layers.Dense(300, activation='relu'))\n",
    "model.add(keras.layers.Dense(100, activation='relu'))\n",
    "model.add(keras.layers.Dense(10, activation='softmax'))"
   ]
  },
  {
   "cell_type": "code",
   "execution_count": 17,
   "metadata": {
    "ExecuteTime": {
     "end_time": "2020-09-11T13:44:37.609659Z",
     "start_time": "2020-09-11T13:44:37.517905Z"
    }
   },
   "outputs": [],
   "source": [
    "# 위와 동일\n",
    "model = keras.models.Sequential([\n",
    "    keras.layers.Flatten(input_shape=[28, 28]),\n",
    "    keras.layers.Dense(300, activation='relu'),\n",
    "    keras.layers.Dense(100, activation='relu'),\n",
    "    keras.layers.Dense(10, activation='softmax')\n",
    "])"
   ]
  },
  {
   "cell_type": "code",
   "execution_count": 18,
   "metadata": {
    "ExecuteTime": {
     "end_time": "2020-09-11T13:44:37.874949Z",
     "start_time": "2020-09-11T13:44:37.854006Z"
    }
   },
   "outputs": [
    {
     "name": "stdout",
     "output_type": "stream",
     "text": [
      "Model: \"sequential_3\"\n",
      "_________________________________________________________________\n",
      "Layer (type)                 Output Shape              Param #   \n",
      "=================================================================\n",
      "flatten_3 (Flatten)          (None, 784)               0         \n",
      "_________________________________________________________________\n",
      "dense_9 (Dense)              (None, 300)               235500    \n",
      "_________________________________________________________________\n",
      "dense_10 (Dense)             (None, 100)               30100     \n",
      "_________________________________________________________________\n",
      "dense_11 (Dense)             (None, 10)                1010      \n",
      "=================================================================\n",
      "Total params: 266,610\n",
      "Trainable params: 266,610\n",
      "Non-trainable params: 0\n",
      "_________________________________________________________________\n"
     ]
    }
   ],
   "source": [
    "model.summary()"
   ]
  },
  {
   "cell_type": "code",
   "execution_count": 19,
   "metadata": {
    "ExecuteTime": {
     "end_time": "2020-09-11T13:46:09.406385Z",
     "start_time": "2020-09-11T13:46:09.384441Z"
    }
   },
   "outputs": [
    {
     "data": {
      "text/plain": [
       "[<tensorflow.python.keras.layers.core.Flatten at 0x130e627e548>,\n",
       " <tensorflow.python.keras.layers.core.Dense at 0x130e5e0a408>,\n",
       " <tensorflow.python.keras.layers.core.Dense at 0x130e5e0af08>,\n",
       " <tensorflow.python.keras.layers.core.Dense at 0x130e5f0bbc8>]"
      ]
     },
     "execution_count": 19,
     "metadata": {},
     "output_type": "execute_result"
    }
   ],
   "source": [
    "model.layers"
   ]
  },
  {
   "cell_type": "code",
   "execution_count": 20,
   "metadata": {
    "ExecuteTime": {
     "end_time": "2020-09-11T13:46:22.425011Z",
     "start_time": "2020-09-11T13:46:22.412061Z"
    }
   },
   "outputs": [
    {
     "data": {
      "text/plain": [
       "'dense_9'"
      ]
     },
     "execution_count": 20,
     "metadata": {},
     "output_type": "execute_result"
    }
   ],
   "source": [
    "hidden1 = model.layers[1]\n",
    "hidden1.name"
   ]
  },
  {
   "cell_type": "code",
   "execution_count": 22,
   "metadata": {
    "ExecuteTime": {
     "end_time": "2020-09-11T13:46:36.843719Z",
     "start_time": "2020-09-11T13:46:36.834744Z"
    }
   },
   "outputs": [
    {
     "data": {
      "text/plain": [
       "True"
      ]
     },
     "execution_count": 22,
     "metadata": {},
     "output_type": "execute_result"
    }
   ],
   "source": [
    "model.get_layer('dense_9') is hidden1"
   ]
  },
  {
   "cell_type": "code",
   "execution_count": 23,
   "metadata": {
    "ExecuteTime": {
     "end_time": "2020-09-11T13:47:00.888366Z",
     "start_time": "2020-09-11T13:47:00.863403Z"
    }
   },
   "outputs": [],
   "source": [
    "weights, biases = hidden1.get_weights()"
   ]
  },
  {
   "cell_type": "code",
   "execution_count": 24,
   "metadata": {
    "ExecuteTime": {
     "end_time": "2020-09-11T13:47:04.961273Z",
     "start_time": "2020-09-11T13:47:04.937339Z"
    }
   },
   "outputs": [
    {
     "data": {
      "text/plain": [
       "array([[ 0.07351454, -0.04947006, -0.02372055, ...,  0.04406505,\n",
       "         0.01367044, -0.02844034],\n",
       "       [ 0.06716119, -0.06780352,  0.03992105, ...,  0.01029989,\n",
       "        -0.05420005,  0.03348946],\n",
       "       [-0.03572524,  0.03379572,  0.04467332, ...,  0.0498566 ,\n",
       "        -0.04484062, -0.0249346 ],\n",
       "       ...,\n",
       "       [ 0.01804365, -0.00310533, -0.06795605, ..., -0.07257941,\n",
       "         0.00565158, -0.03981419],\n",
       "       [ 0.03543888,  0.01754469, -0.04519384, ...,  0.02524554,\n",
       "        -0.03505094,  0.00473297],\n",
       "       [-0.02111961, -0.02031424,  0.03207351, ..., -0.0171173 ,\n",
       "         0.05478621,  0.0711848 ]], dtype=float32)"
      ]
     },
     "execution_count": 24,
     "metadata": {},
     "output_type": "execute_result"
    }
   ],
   "source": [
    "weights"
   ]
  },
  {
   "cell_type": "code",
   "execution_count": 25,
   "metadata": {
    "ExecuteTime": {
     "end_time": "2020-09-11T13:47:11.748525Z",
     "start_time": "2020-09-11T13:47:11.733564Z"
    }
   },
   "outputs": [
    {
     "data": {
      "text/plain": [
       "array([0., 0., 0., 0., 0., 0., 0., 0., 0., 0., 0., 0., 0., 0., 0., 0., 0.,\n",
       "       0., 0., 0., 0., 0., 0., 0., 0., 0., 0., 0., 0., 0., 0., 0., 0., 0.,\n",
       "       0., 0., 0., 0., 0., 0., 0., 0., 0., 0., 0., 0., 0., 0., 0., 0., 0.,\n",
       "       0., 0., 0., 0., 0., 0., 0., 0., 0., 0., 0., 0., 0., 0., 0., 0., 0.,\n",
       "       0., 0., 0., 0., 0., 0., 0., 0., 0., 0., 0., 0., 0., 0., 0., 0., 0.,\n",
       "       0., 0., 0., 0., 0., 0., 0., 0., 0., 0., 0., 0., 0., 0., 0., 0., 0.,\n",
       "       0., 0., 0., 0., 0., 0., 0., 0., 0., 0., 0., 0., 0., 0., 0., 0., 0.,\n",
       "       0., 0., 0., 0., 0., 0., 0., 0., 0., 0., 0., 0., 0., 0., 0., 0., 0.,\n",
       "       0., 0., 0., 0., 0., 0., 0., 0., 0., 0., 0., 0., 0., 0., 0., 0., 0.,\n",
       "       0., 0., 0., 0., 0., 0., 0., 0., 0., 0., 0., 0., 0., 0., 0., 0., 0.,\n",
       "       0., 0., 0., 0., 0., 0., 0., 0., 0., 0., 0., 0., 0., 0., 0., 0., 0.,\n",
       "       0., 0., 0., 0., 0., 0., 0., 0., 0., 0., 0., 0., 0., 0., 0., 0., 0.,\n",
       "       0., 0., 0., 0., 0., 0., 0., 0., 0., 0., 0., 0., 0., 0., 0., 0., 0.,\n",
       "       0., 0., 0., 0., 0., 0., 0., 0., 0., 0., 0., 0., 0., 0., 0., 0., 0.,\n",
       "       0., 0., 0., 0., 0., 0., 0., 0., 0., 0., 0., 0., 0., 0., 0., 0., 0.,\n",
       "       0., 0., 0., 0., 0., 0., 0., 0., 0., 0., 0., 0., 0., 0., 0., 0., 0.,\n",
       "       0., 0., 0., 0., 0., 0., 0., 0., 0., 0., 0., 0., 0., 0., 0., 0., 0.,\n",
       "       0., 0., 0., 0., 0., 0., 0., 0., 0., 0., 0.], dtype=float32)"
      ]
     },
     "execution_count": 25,
     "metadata": {},
     "output_type": "execute_result"
    }
   ],
   "source": [
    "biases"
   ]
  },
  {
   "cell_type": "code",
   "execution_count": 26,
   "metadata": {
    "ExecuteTime": {
     "end_time": "2020-09-11T13:47:22.595276Z",
     "start_time": "2020-09-11T13:47:22.575328Z"
    }
   },
   "outputs": [
    {
     "data": {
      "text/plain": [
       "(300,)"
      ]
     },
     "execution_count": 26,
     "metadata": {},
     "output_type": "execute_result"
    }
   ],
   "source": [
    "biases.shape"
   ]
  },
  {
   "cell_type": "code",
   "execution_count": 27,
   "metadata": {
    "ExecuteTime": {
     "end_time": "2020-09-11T13:49:11.813666Z",
     "start_time": "2020-09-11T13:49:11.770780Z"
    }
   },
   "outputs": [],
   "source": [
    "model.compile(loss='sparse_categorical_crossentropy',\n",
    "              optimizer='sgd',\n",
    "              metrics=['accuracy'])"
   ]
  },
  {
   "cell_type": "code",
   "execution_count": 35,
   "metadata": {
    "ExecuteTime": {
     "end_time": "2020-09-11T13:55:57.157452Z",
     "start_time": "2020-09-11T13:52:02.773240Z"
    }
   },
   "outputs": [
    {
     "name": "stdout",
     "output_type": "stream",
     "text": [
      "Epoch 1/30\n",
      "1719/1719 [==============================] - 8s 4ms/step - loss: 0.7062 - accuracy: 0.7668 - val_loss: 0.5094 - val_accuracy: 0.8280\n",
      "Epoch 2/30\n",
      "1719/1719 [==============================] - 7s 4ms/step - loss: 0.4880 - accuracy: 0.8305 - val_loss: 0.4402 - val_accuracy: 0.8516\n",
      "Epoch 3/30\n",
      "1719/1719 [==============================] - 7s 4ms/step - loss: 0.4439 - accuracy: 0.8449 - val_loss: 0.4383 - val_accuracy: 0.8514\n",
      "Epoch 4/30\n",
      "1719/1719 [==============================] - 7s 4ms/step - loss: 0.4180 - accuracy: 0.8544 - val_loss: 0.4381 - val_accuracy: 0.8454\n",
      "Epoch 5/30\n",
      "1719/1719 [==============================] - 7s 4ms/step - loss: 0.3977 - accuracy: 0.8601 - val_loss: 0.3863 - val_accuracy: 0.8680\n",
      "Epoch 6/30\n",
      "1719/1719 [==============================] - 7s 4ms/step - loss: 0.3823 - accuracy: 0.8648 - val_loss: 0.3830 - val_accuracy: 0.8668\n",
      "Epoch 7/30\n",
      "1719/1719 [==============================] - 7s 4ms/step - loss: 0.3678 - accuracy: 0.8697 - val_loss: 0.3666 - val_accuracy: 0.8696\n",
      "Epoch 8/30\n",
      "1719/1719 [==============================] - 8s 4ms/step - loss: 0.3563 - accuracy: 0.8744 - val_loss: 0.3777 - val_accuracy: 0.8684\n",
      "Epoch 9/30\n",
      "1719/1719 [==============================] - 8s 4ms/step - loss: 0.3459 - accuracy: 0.8757 - val_loss: 0.3688 - val_accuracy: 0.8704\n",
      "Epoch 10/30\n",
      "1719/1719 [==============================] - 8s 4ms/step - loss: 0.3369 - accuracy: 0.8797 - val_loss: 0.3430 - val_accuracy: 0.8778\n",
      "Epoch 11/30\n",
      "1719/1719 [==============================] - 8s 5ms/step - loss: 0.3270 - accuracy: 0.8835 - val_loss: 0.3592 - val_accuracy: 0.8736\n",
      "Epoch 12/30\n",
      "1719/1719 [==============================] - 7s 4ms/step - loss: 0.3190 - accuracy: 0.8856 - val_loss: 0.3321 - val_accuracy: 0.8816\n",
      "Epoch 13/30\n",
      "1719/1719 [==============================] - 8s 5ms/step - loss: 0.3121 - accuracy: 0.8887 - val_loss: 0.3337 - val_accuracy: 0.8818\n",
      "Epoch 14/30\n",
      "1719/1719 [==============================] - 12s 7ms/step - loss: 0.3044 - accuracy: 0.8916 - val_loss: 0.3407 - val_accuracy: 0.8792\n",
      "Epoch 15/30\n",
      "1719/1719 [==============================] - 12s 7ms/step - loss: 0.2988 - accuracy: 0.8923 - val_loss: 0.3248 - val_accuracy: 0.8840\n",
      "Epoch 16/30\n",
      "1719/1719 [==============================] - 7s 4ms/step - loss: 0.2930 - accuracy: 0.8944 - val_loss: 0.3184 - val_accuracy: 0.8882\n",
      "Epoch 17/30\n",
      "1719/1719 [==============================] - 7s 4ms/step - loss: 0.2870 - accuracy: 0.8961 - val_loss: 0.3274 - val_accuracy: 0.8836\n",
      "Epoch 18/30\n",
      "1719/1719 [==============================] - 7s 4ms/step - loss: 0.2809 - accuracy: 0.8984 - val_loss: 0.3115 - val_accuracy: 0.8860\n",
      "Epoch 19/30\n",
      "1719/1719 [==============================] - 8s 4ms/step - loss: 0.2758 - accuracy: 0.9016 - val_loss: 0.3200 - val_accuracy: 0.8852\n",
      "Epoch 20/30\n",
      "1719/1719 [==============================] - 7s 4ms/step - loss: 0.2708 - accuracy: 0.9017 - val_loss: 0.3200 - val_accuracy: 0.8824\n",
      "Epoch 21/30\n",
      "1719/1719 [==============================] - 7s 4ms/step - loss: 0.2660 - accuracy: 0.9047 - val_loss: 0.3155 - val_accuracy: 0.8860\n",
      "Epoch 22/30\n",
      "1719/1719 [==============================] - 7s 4ms/step - loss: 0.2613 - accuracy: 0.9055 - val_loss: 0.3036 - val_accuracy: 0.8900\n",
      "Epoch 23/30\n",
      "1719/1719 [==============================] - 8s 5ms/step - loss: 0.2573 - accuracy: 0.9073 - val_loss: 0.3159 - val_accuracy: 0.8832\n",
      "Epoch 24/30\n",
      "1719/1719 [==============================] - 7s 4ms/step - loss: 0.2527 - accuracy: 0.9095 - val_loss: 0.3067 - val_accuracy: 0.8904\n",
      "Epoch 25/30\n",
      "1719/1719 [==============================] - 7s 4ms/step - loss: 0.2480 - accuracy: 0.9102 - val_loss: 0.3269 - val_accuracy: 0.8832\n",
      "Epoch 26/30\n",
      "1719/1719 [==============================] - 8s 4ms/step - loss: 0.2444 - accuracy: 0.9119 - val_loss: 0.3020 - val_accuracy: 0.8888\n",
      "Epoch 27/30\n",
      "1719/1719 [==============================] - 7s 4ms/step - loss: 0.2407 - accuracy: 0.9135 - val_loss: 0.2942 - val_accuracy: 0.8946\n",
      "Epoch 28/30\n",
      "1719/1719 [==============================] - 7s 4ms/step - loss: 0.2358 - accuracy: 0.9155 - val_loss: 0.3047 - val_accuracy: 0.8926\n",
      "Epoch 29/30\n",
      "1719/1719 [==============================] - 8s 4ms/step - loss: 0.2325 - accuracy: 0.9158 - val_loss: 0.3110 - val_accuracy: 0.8904\n",
      "Epoch 30/30\n",
      "1719/1719 [==============================] - 8s 4ms/step - loss: 0.2291 - accuracy: 0.9165 - val_loss: 0.2922 - val_accuracy: 0.8958\n"
     ]
    }
   ],
   "source": [
    "history = model.fit(X_train, y_train, epochs=30,\n",
    "                    validation_data=(X_valid, y_valid))"
   ]
  },
  {
   "cell_type": "code",
   "execution_count": 39,
   "metadata": {
    "ExecuteTime": {
     "end_time": "2020-09-11T13:56:41.095674Z",
     "start_time": "2020-09-11T13:56:40.620945Z"
    }
   },
   "outputs": [
    {
     "data": {
      "image/png": "[encoded data removed]",
      "text/plain": [
       "<Figure size 576x360 with 1 Axes>"
      ]
     },
     "metadata": {
      "needs_background": "light"
     },
     "output_type": "display_data"
    }
   ],
   "source": [
    "import pandas as pd\n",
    "import matplotlib.pyplot as plt\n",
    "\n",
    "pd.DataFrame(history.history).plot(figsize=(8, 5))\n",
    "plt.grid(True)\n",
    "plt.gca().set_ylim(0, 1)\n",
    "plt.show()"
   ]
  },
  {
   "cell_type": "code",
   "execution_count": 40,
   "metadata": {
    "ExecuteTime": {
     "end_time": "2020-09-11T13:59:30.946597Z",
     "start_time": "2020-09-11T13:59:29.777725Z"
    }
   },
   "outputs": [
    {
     "name": "stdout",
     "output_type": "stream",
     "text": [
      "313/313 [==============================] - 1s 3ms/step - loss: 0.3274 - accuracy: 0.8851\n"
     ]
    },
    {
     "data": {
      "text/plain": [
       "[0.32742592692375183, 0.8851000070571899]"
      ]
     },
     "execution_count": 40,
     "metadata": {},
     "output_type": "execute_result"
    }
   ],
   "source": [
    "model.evaluate(X_test, y_test)"
   ]
  },
  {
   "cell_type": "code",
   "execution_count": 41,
   "metadata": {
    "ExecuteTime": {
     "end_time": "2020-09-11T14:00:42.277106Z",
     "start_time": "2020-09-11T14:00:41.957962Z"
    }
   },
   "outputs": [
    {
     "data": {
      "text/plain": [
       "array([[0.  , 0.  , 0.  , 0.  , 0.  , 0.  , 0.  , 0.02, 0.  , 0.97],\n",
       "       [0.  , 0.  , 1.  , 0.  , 0.  , 0.  , 0.  , 0.  , 0.  , 0.  ],\n",
       "       [0.  , 1.  , 0.  , 0.  , 0.  , 0.  , 0.  , 0.  , 0.  , 0.  ]],\n",
       "      dtype=float32)"
      ]
     },
     "execution_count": 41,
     "metadata": {},
     "output_type": "execute_result"
    }
   ],
   "source": [
    "X_new = X_test[:3]\n",
    "y_proba = model.predict(X_new)\n",
    "y_proba.round(2)"
   ]
  },
  {
   "cell_type": "code",
   "execution_count": 42,
   "metadata": {
    "ExecuteTime": {
     "end_time": "2020-09-11T14:01:22.835166Z",
     "start_time": "2020-09-11T14:01:22.725460Z"
    }
   },
   "outputs": [
    {
     "name": "stdout",
     "output_type": "stream",
     "text": [
      "WARNING:tensorflow:From <ipython-input-42-81ace37e545f>:1: Sequential.predict_classes (from tensorflow.python.keras.engine.sequential) is deprecated and will be removed after 2021-01-01.\n",
      "Instructions for updating:\n",
      "Please use instead:* `np.argmax(model.predict(x), axis=-1)`,   if your model does multi-class classification   (e.g. if it uses a `softmax` last-layer activation).* `(model.predict(x) > 0.5).astype(\"int32\")`,   if your model does binary classification   (e.g. if it uses a `sigmoid` last-layer activation).\n"
     ]
    },
    {
     "data": {
      "text/plain": [
       "array([9, 2, 1], dtype=int64)"
      ]
     },
     "execution_count": 42,
     "metadata": {},
     "output_type": "execute_result"
    }
   ],
   "source": [
    "y_pred = model.predict_classes(X_new)\n",
    "y_pred"
   ]
  },
  {
   "cell_type": "code",
   "execution_count": 44,
   "metadata": {
    "ExecuteTime": {
     "end_time": "2020-09-11T14:01:41.781595Z",
     "start_time": "2020-09-11T14:01:41.761646Z"
    }
   },
   "outputs": [
    {
     "data": {
      "text/plain": [
       "array(['Ankle boot', 'Pullover', 'Trouser'], dtype='<U11')"
      ]
     },
     "execution_count": 44,
     "metadata": {},
     "output_type": "execute_result"
    }
   ],
   "source": [
    "import numpy as np\n",
    "np.array(class_names)[y_pred]"
   ]
  },
  {
   "cell_type": "code",
   "execution_count": 45,
   "metadata": {
    "ExecuteTime": {
     "end_time": "2020-09-11T14:01:54.246538Z",
     "start_time": "2020-09-11T14:01:54.228588Z"
    }
   },
   "outputs": [
    {
     "data": {
      "text/plain": [
       "array([9, 2, 1], dtype=uint8)"
      ]
     },
     "execution_count": 45,
     "metadata": {},
     "output_type": "execute_result"
    }
   ],
   "source": [
    "y_new = y_test[:3]\n",
    "y_new"
   ]
  }
 ],
 "metadata": {
  "kernelspec": {
   "display_name": "Python 3",
   "language": "python",
   "name": "python3"
  },
  "language_info": {
   "codemirror_mode": {
    "name": "ipython",
    "version": 3
   },
   "file_extension": ".py",
   "mimetype": "text/x-python",
   "name": "python",
   "nbconvert_exporter": "python",
   "pygments_lexer": "ipython3",
   "version": "3.7.4"
  },
  "toc": {
   "base_numbering": 1,
   "nav_menu": {},
   "number_sections": false,
   "sideBar": true,
   "skip_h1_title": true,
   "title_cell": "Table of Contents",
   "title_sidebar": "Contents",
   "toc_cell": true,
   "toc_position": {},
   "toc_section_display": true,
   "toc_window_display": false
  }
 },
 "nbformat": 4,
 "nbformat_minor": 2
}
